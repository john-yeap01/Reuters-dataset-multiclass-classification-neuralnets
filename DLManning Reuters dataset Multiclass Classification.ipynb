{
 "cells": [
  {
   "cell_type": "markdown",
   "id": "c07307c6",
   "metadata": {},
   "source": [
    "Reuters data 3.5"
   ]
  },
  {
   "cell_type": "code",
   "execution_count": 10,
   "id": "c8493d56",
   "metadata": {},
   "outputs": [
    {
     "name": "stdout",
     "output_type": "stream",
     "text": [
      "8982\n",
      "2246\n"
     ]
    }
   ],
   "source": [
    "from keras.datasets import reuters\n",
    "(train_data, train_labels), (test_data, test_labels) = reuters.load_data(\n",
    "    num_words=10000)\n",
    "\n",
    "print(len(train_data))\n",
    "print(len(test_data))"
   ]
  },
  {
   "cell_type": "code",
   "execution_count": 13,
   "id": "6bec3bbc",
   "metadata": {},
   "outputs": [
    {
     "name": "stdout",
     "output_type": "stream",
     "text": [
      "first of train data:\n",
      "[1, 2, 2, 8, 43, 10, 447, 5, 25, 207, 270, 5, 3095, 111, 16, 369, 186, 90, 67, 7, 89, 5, 19, 102, 6, 19, 124, 15, 90, 67, 84, 22, 482, 26, 7, 48, 4, 49, 8, 864, 39, 209, 154, 6, 151, 6, 83, 11, 15, 22, 155, 11, 15, 7, 48, 9, 4579, 1005, 504, 6, 258, 6, 272, 11, 15, 22, 134, 44, 11, 15, 16, 8, 197, 1245, 90, 67, 52, 29, 209, 30, 32, 132, 6, 109, 15, 17, 12]\n",
      "each represents the word that corresponds to its freq in the dataset\n"
     ]
    }
   ],
   "source": [
    "print('first of train data:')\n",
    "print(train_data[0])\n",
    "print('each represents the word that corresponds to its freq in the dataset')"
   ]
  },
  {
   "cell_type": "code",
   "execution_count": 18,
   "id": "7f36de27",
   "metadata": {},
   "outputs": [
    {
     "name": "stdout",
     "output_type": "stream",
     "text": [
      "? ? ? said as a result of its december acquisition of space co it expects earnings per share in 1987 of 1 15 to 1 30 dlrs per share up from 70 cts in 1986 the company said pretax net should rise to nine to 10 mln dlrs from six mln dlrs in 1986 and rental operation revenues to 19 to 22 mln dlrs from 12 5 mln dlrs it said cash flow per share this year should be 2 50 to three dlrs reuter 3\n"
     ]
    }
   ],
   "source": [
    "word_index = reuters.get_word_index()\n",
    "reverse_word_index = dict([(value, key) for (key, value) in word_index.items()]) \n",
    "decoded_newswire = ' '.join([reverse_word_index.get(i - 3, '?') for i in train_data[0]])\n",
    "print(decoded_newswire)"
   ]
  },
  {
   "cell_type": "code",
   "execution_count": 22,
   "id": "067ef066",
   "metadata": {},
   "outputs": [
    {
     "name": "stdout",
     "output_type": "stream",
     "text": [
      "[[0. 1. 1. ... 0. 0. 0.]\n",
      " [0. 1. 1. ... 0. 0. 0.]\n",
      " [0. 1. 1. ... 0. 0. 0.]\n",
      " ...\n",
      " [0. 1. 1. ... 0. 0. 0.]\n",
      " [0. 1. 1. ... 0. 0. 0.]\n",
      " [0. 1. 1. ... 0. 0. 0.]]\n",
      "[0. 1. 1. ... 0. 0. 0.]\n"
     ]
    }
   ],
   "source": [
    "import numpy as np\n",
    "def vectorize_sequences(sequences, dimension=10000):\n",
    "    results = np.zeros((len(sequences), dimension))\n",
    "    for i, sequence in enumerate(sequences):\n",
    "        results[i, sequence] = 1.\n",
    "    return results\n",
    "x_train = vectorize_sequences(train_data)\n",
    "x_test = vectorize_sequences(test_data)\n",
    "print(x_train)\n",
    "print(x_train[0])"
   ]
  },
  {
   "cell_type": "markdown",
   "id": "30f2dfe5",
   "metadata": {},
   "source": [
    "To vectorize the labels, there are two possibilities: you can cast the label list as an inte- ger tensor, or you can use one-hot encoding. One-hot encoding is a widely used for- mat for categorical data, also called categorical encoding. "
   ]
  },
  {
   "cell_type": "code",
   "execution_count": null,
   "id": "5751f805",
   "metadata": {},
   "outputs": [],
   "source": [
    "# builtin\n",
    "# from keras.utils.np_utils import to_categorical\n",
    "#        one_hot_train_labels = to_categorical(train_labels)\n",
    "#        one_hot_test_labels = to_categorical(test_labels)\n"
   ]
  },
  {
   "cell_type": "code",
   "execution_count": 34,
   "id": "0c514e3f",
   "metadata": {},
   "outputs": [
    {
     "name": "stdout",
     "output_type": "stream",
     "text": [
      "[ 3  4  3 ... 25  3 25]\n",
      "<enumerate object at 0x7f7ef7d35780>\n",
      "one hotted for the first two -- notice how the 3 index is a 1 and the fourth index of the second label is 1:\n",
      "[0. 0. 0. 1. 0. 0. 0. 0. 0. 0.]\n",
      "[0. 0. 0. 0. 1. 0. 0. 0. 0. 0.]\n"
     ]
    }
   ],
   "source": [
    "#traditional one hot for labels\n",
    "\n",
    "def to_one_hot(labels, dimension=46):\n",
    "    results = np.zeros((len(labels), dimension))\n",
    "    for i, label in enumerate(labels):\n",
    "        results[i, label] = 1.\n",
    "    return results\n",
    "\n",
    "one_hot_train_labels = to_one_hot(train_labels)\n",
    "one_hot_test_labels = to_one_hot(test_labels)\n",
    "print(train_labels)\n",
    "print('one hotted for the first two -- notice how the 3 index is a 1 and the fourth index of the second label is 1:')\n",
    "print(one_hot_train_labels[0][:10])\n",
    "print(one_hot_train_labels[1][:10])"
   ]
  },
  {
   "cell_type": "code",
   "execution_count": 35,
   "id": "ade88422",
   "metadata": {},
   "outputs": [],
   "source": [
    "from keras import models\n",
    "from keras import layers\n",
    "\n",
    "model = models.Sequential()\n",
    "model.add(layers.Dense(64, activation='relu', input_shape=(10000,)))\n",
    "model.add(layers.Dense(64, activation = 'relu'))\n",
    "model.add(layers.Dense(46, activation = 'softmax'))"
   ]
  },
  {
   "cell_type": "markdown",
   "id": "825abc14",
   "metadata": {},
   "source": [
    "\n",
    "## You end the network with a Dense layer of size 46. This means for each input sample, the network will output a 46-dimensional vector. Each entry in this vector (each dimension) will encode a different output class.\n",
    "### The last layer uses a softmax activation. You saw this pattern in the MNIST example. It means the network will output a probability distribution over the 46 different output classes—for every input sample, the network will produce a 46- dimensional output vector, where output[i] is the probability that the sample belongs to class i. The 46 scores will sum to 1.\n"
   ]
  },
  {
   "cell_type": "code",
   "execution_count": 36,
   "id": "6b793367",
   "metadata": {},
   "outputs": [
    {
     "name": "stdout",
     "output_type": "stream",
     "text": [
      "Epoch 1/20\n",
      "16/16 [==============================] - 3s 114ms/step - loss: 2.6541 - accuracy: 0.5190 - val_loss: 1.7956 - val_accuracy: 0.6280\n",
      "Epoch 2/20\n",
      "16/16 [==============================] - 1s 49ms/step - loss: 1.4549 - accuracy: 0.6986 - val_loss: 1.3470 - val_accuracy: 0.7190\n",
      "Epoch 3/20\n",
      "16/16 [==============================] - 1s 50ms/step - loss: 1.0986 - accuracy: 0.7674 - val_loss: 1.1839 - val_accuracy: 0.7410\n",
      "Epoch 4/20\n",
      "16/16 [==============================] - 1s 89ms/step - loss: 0.8742 - accuracy: 0.8131 - val_loss: 1.0778 - val_accuracy: 0.7720\n",
      "Epoch 5/20\n",
      "16/16 [==============================] - 1s 85ms/step - loss: 0.7066 - accuracy: 0.8504 - val_loss: 1.0033 - val_accuracy: 0.7830\n",
      "Epoch 6/20\n",
      "16/16 [==============================] - 1s 66ms/step - loss: 0.5733 - accuracy: 0.8768 - val_loss: 1.0112 - val_accuracy: 0.7770\n",
      "Epoch 7/20\n",
      "16/16 [==============================] - 1s 67ms/step - loss: 0.4639 - accuracy: 0.9023 - val_loss: 0.9136 - val_accuracy: 0.8170\n",
      "Epoch 8/20\n",
      "16/16 [==============================] - 1s 68ms/step - loss: 0.3790 - accuracy: 0.9194 - val_loss: 0.9340 - val_accuracy: 0.8060\n",
      "Epoch 9/20\n",
      "16/16 [==============================] - 1s 77ms/step - loss: 0.3129 - accuracy: 0.9323 - val_loss: 0.9002 - val_accuracy: 0.8150\n",
      "Epoch 10/20\n",
      "16/16 [==============================] - 1s 83ms/step - loss: 0.2645 - accuracy: 0.9407 - val_loss: 0.8960 - val_accuracy: 0.8110\n",
      "Epoch 11/20\n",
      "16/16 [==============================] - 1s 83ms/step - loss: 0.2254 - accuracy: 0.9461 - val_loss: 0.9293 - val_accuracy: 0.8070\n",
      "Epoch 12/20\n",
      "16/16 [==============================] - 1s 83ms/step - loss: 0.1953 - accuracy: 0.9500 - val_loss: 0.9317 - val_accuracy: 0.8140\n",
      "Epoch 13/20\n",
      "16/16 [==============================] - 1s 59ms/step - loss: 0.1775 - accuracy: 0.9521 - val_loss: 0.9656 - val_accuracy: 0.8050\n",
      "Epoch 14/20\n",
      "16/16 [==============================] - 1s 57ms/step - loss: 0.1568 - accuracy: 0.9539 - val_loss: 0.9704 - val_accuracy: 0.8100\n",
      "Epoch 15/20\n",
      "16/16 [==============================] - 1s 50ms/step - loss: 0.1438 - accuracy: 0.9569 - val_loss: 1.0147 - val_accuracy: 0.7990\n",
      "Epoch 16/20\n",
      "16/16 [==============================] - 1s 64ms/step - loss: 0.1385 - accuracy: 0.9550 - val_loss: 1.0272 - val_accuracy: 0.8050\n",
      "Epoch 17/20\n",
      "16/16 [==============================] - 1s 84ms/step - loss: 0.1250 - accuracy: 0.9579 - val_loss: 1.0667 - val_accuracy: 0.7850\n",
      "Epoch 18/20\n",
      "16/16 [==============================] - 1s 60ms/step - loss: 0.1213 - accuracy: 0.9582 - val_loss: 1.1685 - val_accuracy: 0.7830\n",
      "Epoch 19/20\n",
      "16/16 [==============================] - 1s 52ms/step - loss: 0.1143 - accuracy: 0.9578 - val_loss: 1.0389 - val_accuracy: 0.8000\n",
      "Epoch 20/20\n",
      "16/16 [==============================] - 1s 96ms/step - loss: 0.1136 - accuracy: 0.9562 - val_loss: 1.0549 - val_accuracy: 0.7980\n"
     ]
    }
   ],
   "source": [
    "#best loss function to use in this case is categorical_crossentropy. \n",
    "# It measures the distance between two probability distributions\n",
    "model.compile(optimizer = 'rmsprop', loss = 'categorical_crossentropy', metrics = ['accuracy'])\n",
    "\n",
    "x_val = x_train[:1000]\n",
    "partial_x_train = x_train[1000:]\n",
    "y_val = one_hot_train_labels[:1000]\n",
    "partial_y_train = one_hot_train_labels[1000:]\n",
    "\n",
    "history = model.fit(partial_x_train,\n",
    "                   partial_y_train,\n",
    "                   epochs = 20,\n",
    "                   batch_size = 512,\n",
    "                   validation_data = (x_val, y_val))"
   ]
  },
  {
   "cell_type": "code",
   "execution_count": 37,
   "id": "3c0dc2f6",
   "metadata": {},
   "outputs": [
    {
     "data": {
      "image/png": "[encoded data removed]",
      "text/plain": [
       "<Figure size 640x480 with 1 Axes>"
      ]
     },
     "metadata": {},
     "output_type": "display_data"
    }
   ],
   "source": [
    "import matplotlib.pyplot as plt\n",
    "loss = history.history['loss']\n",
    "val_loss = history.history['val_loss']\n",
    "epochs = range(1, len(loss) + 1)\n",
    "plt.plot(epochs, loss, 'bo', label='Training loss')\n",
    "plt.plot(epochs, val_loss, 'b', label='Validation loss')\n",
    "plt.title('Training and validation loss')\n",
    "plt.xlabel('Epochs')\n",
    "plt.ylabel('Loss')\n",
    "plt.legend()\n",
    "plt.show()\n"
   ]
  },
  {
   "cell_type": "code",
   "execution_count": 40,
   "id": "0e9d7ffa",
   "metadata": {},
   "outputs": [
    {
     "data": {
      "image/png": "[encoded data removed]",
      "text/plain": [
       "<Figure size 640x480 with 1 Axes>"
      ]
     },
     "metadata": {},
     "output_type": "display_data"
    }
   ],
   "source": [
    "plt.clf()\n",
    "\n",
    "acc = history.history['accuracy']\n",
    "val_acc = history.history['val_accuracy']\n",
    "plt.plot(epochs, acc, 'bo', label='Training acc')\n",
    "plt.plot(epochs, val_acc, 'b', label='Validation acc')\n",
    "plt.title('Training and validation accuracy')\n",
    "plt.xlabel('Epochs')\n",
    "plt.ylabel('Loss')\n",
    "plt.legend()\n",
    "\n",
    "plt.show()"
   ]
  },
  {
   "cell_type": "code",
   "execution_count": 43,
   "id": "61859477",
   "metadata": {},
   "outputs": [
    {
     "name": "stdout",
     "output_type": "stream",
     "text": [
      "71/71 [==============================] - 0s 4ms/step\n"
     ]
    }
   ],
   "source": [
    "predictions = model.predict(x_test)"
   ]
  },
  {
   "cell_type": "code",
   "execution_count": 54,
   "id": "8d58369b",
   "metadata": {},
   "outputs": [
    {
     "name": "stdout",
     "output_type": "stream",
     "text": [
      "(2246, 46)\n",
      "(46,)\n",
      "1.0000001\n",
      "3\n"
     ]
    }
   ],
   "source": [
    "print(predictions.shape)\n",
    "print(predictions[0].shape)\n",
    "print(np.sum(predictions[0])) #coefficients sum to 1\n",
    "print(np.argmax(predictions[0])) #class with the highest probability\n"
   ]
  },
  {
   "cell_type": "markdown",
   "id": "11c4232e",
   "metadata": {},
   "source": [
    "We mentioned earlier that another way to encode the labels would be to cast them as an integer tensor, like this:\n",
    "     \n",
    "     y_train = np.array(train_labels)\n",
    "     y_test = np.array(test_labels)\n",
    "     \n",
    "     \n",
    "The only thing this approach would change is the choice of the loss function. The loss function used in listing 3.21, categorical_crossentropy, expects the labels to follow a categorical encoding. With integer labels, you should use sparse_categorical_ crossentropy:\n",
    "        \n",
    "        model.compile(optimizer='rmsprop',\n",
    "                      loss='sparse_categorical_crossentropy',\n",
    "                        metrics=['acc'])\n",
    "\n",
    "This new loss function is still mathematically the same as categorical_crossentropy;\n",
    "it just has a different interface."
   ]
  }
 ],
 "metadata": {
  "kernelspec": {
   "display_name": "Python 3 (ipykernel)",
   "language": "python",
   "name": "python3"
  },
  "language_info": {
   "codemirror_mode": {
    "name": "ipython",
    "version": 3
   },
   "file_extension": ".py",
   "mimetype": "text/x-python",
   "name": "python",
   "nbconvert_exporter": "python",
   "pygments_lexer": "ipython3",
   "version": "3.9.12"
  }
 },
 "nbformat": 4,
 "nbformat_minor": 5
}
